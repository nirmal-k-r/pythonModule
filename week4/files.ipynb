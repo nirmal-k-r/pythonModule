{
 "cells": [
  {
   "cell_type": "code",
   "execution_count": 2,
   "metadata": {},
   "outputs": [
    {
     "name": "stdout",
     "output_type": "stream",
     "text": [
      "Apples\n",
      "Milk\n",
      "Rice\n",
      "Weektabix\n",
      "Tisseu paper\n"
     ]
    }
   ],
   "source": [
    "#open file in read mode\n",
    "file = open(\"grocery list.txt\", 'r')\n",
    "\n",
    "content=file.read() #read the file contents\n",
    "print(content)\n",
    "\n",
    "file.close() #close the file"
   ]
  },
  {
   "cell_type": "code",
   "execution_count": 7,
   "metadata": {},
   "outputs": [
    {
     "name": "stdout",
     "output_type": "stream",
     "text": [
      "Apples\n",
      "\n",
      "Milk\n",
      "\n",
      "Rice\n",
      "\n",
      "Weektabix\n",
      "\n",
      "Tisseu paper\n"
     ]
    }
   ],
   "source": [
    "file = open(\"grocery list.txt\", 'r') \n",
    "\n",
    "for line in file:\n",
    "    print(line)\n",
    "\n",
    "file.close()"
   ]
  },
  {
   "cell_type": "code",
   "execution_count": 8,
   "metadata": {},
   "outputs": [
    {
     "name": "stdout",
     "output_type": "stream",
     "text": [
      "0: Apples\n",
      "\n",
      "1: Milk\n",
      "\n",
      "2: Rice\n",
      "\n",
      "3: Weektabix\n",
      "\n",
      "4: Tisseu paper\n"
     ]
    }
   ],
   "source": [
    "file = open(\"grocery list.txt\", 'r') \n",
    "\n",
    "i=0\n",
    "for line in file:   #read file line by line\n",
    "    print(str(i)+\": \"+line)\n",
    "    i+=1\n",
    "\n",
    "file.close()"
   ]
  },
  {
   "cell_type": "code",
   "execution_count": 11,
   "metadata": {},
   "outputs": [
    {
     "name": "stdout",
     "output_type": "stream",
     "text": [
      "Apple\n"
     ]
    }
   ],
   "source": [
    "file=open(\"grocery list.txt\", 'r')\n",
    "print(file.read(5))   #read first 5 characters from file\n",
    "file.close()"
   ]
  },
  {
   "cell_type": "code",
   "execution_count": 16,
   "metadata": {},
   "outputs": [],
   "source": [
    "file=open(\"cars.txt\", 'w')  #open file in write mode\n",
    "\n",
    "file.write('Toyota Vitz \\n') #write to file\n",
    "file.write('Toyota Premio \\n') #\\n means new line\n",
    "file.write('Toyota Axio \\n')\n",
    "file.write('Toyota Allion \\n')\n",
    "\n",
    "file.close()"
   ]
  },
  {
   "cell_type": "code",
   "execution_count": 15,
   "metadata": {},
   "outputs": [],
   "source": [
    "file=open(\"cars.txt\", 'w') #opening file in write mode overwrites the existing file\n",
    "file.write('Toyota supra')\n",
    "file.close()"
   ]
  },
  {
   "cell_type": "code",
   "execution_count": 19,
   "metadata": {},
   "outputs": [],
   "source": [
    "#open file in append mode\n",
    "file=open(\"cars.txt\", 'a')\n",
    "file.write('Toyota supra \\n')\n",
    "file.close()"
   ]
  },
  {
   "cell_type": "code",
   "execution_count": null,
   "metadata": {},
   "outputs": [],
   "source": [
    "#rb - readbinary\n",
    "#wb - writebinary\n"
   ]
  },
  {
   "cell_type": "code",
   "execution_count": null,
   "metadata": {},
   "outputs": [],
   "source": []
  }
 ],
 "metadata": {
  "kernelspec": {
   "display_name": "Python 3",
   "language": "python",
   "name": "python3"
  },
  "language_info": {
   "codemirror_mode": {
    "name": "ipython",
    "version": 3
   },
   "file_extension": ".py",
   "mimetype": "text/x-python",
   "name": "python",
   "nbconvert_exporter": "python",
   "pygments_lexer": "ipython3",
   "version": "3.10.2"
  }
 },
 "nbformat": 4,
 "nbformat_minor": 2
}
