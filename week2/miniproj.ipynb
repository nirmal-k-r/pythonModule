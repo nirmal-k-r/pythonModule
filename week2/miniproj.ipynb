{
 "cells": [
  {
   "cell_type": "code",
   "execution_count": 3,
   "metadata": {},
   "outputs": [
    {
     "name": "stdout",
     "output_type": "stream",
     "text": [
      "Welcome to grade calculator\n",
      "Grade B\n",
      "total score:  340\n",
      "average:  85.0\n"
     ]
    }
   ],
   "source": [
    "print('Welcome to grade calculator')\n",
    "\n",
    "num_subjects=input('Enter the number of subjects: ')\n",
    "num_subjects=int(num_subjects)\n",
    "\n",
    "total_marks=0\n",
    "\n",
    "for i in range(0,num_subjects):\n",
    "    marks=input('Enter marks for subject {}'.format(i))\n",
    "    marks=int(marks)\n",
    "    total_marks+=marks\n",
    "\n",
    "average=total_marks/num_subjects\n",
    "\n",
    "if average>=90:\n",
    "    print('Grade A')\n",
    "elif average>=80:\n",
    "    print('Grade B')\n",
    "elif average>=70:\n",
    "    print('Grade C')\n",
    "elif average>=60:\n",
    "    print('Grade D')\n",
    "else:\n",
    "    print('Grade F')\n",
    "\n",
    "print('total score: ',total_marks)\n",
    "print('average: ',average)"
   ]
  }
 ],
 "metadata": {
  "kernelspec": {
   "display_name": "Python 3",
   "language": "python",
   "name": "python3"
  },
  "language_info": {
   "codemirror_mode": {
    "name": "ipython",
    "version": 3
   },
   "file_extension": ".py",
   "mimetype": "text/x-python",
   "name": "python",
   "nbconvert_exporter": "python",
   "pygments_lexer": "ipython3",
   "version": "3.10.2"
  }
 },
 "nbformat": 4,
 "nbformat_minor": 2
}
