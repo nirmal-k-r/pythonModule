{
 "cells": [
  {
   "cell_type": "code",
   "execution_count": 2,
   "metadata": {},
   "outputs": [
    {
     "name": "stdout",
     "output_type": "stream",
     "text": [
      "Sum of 10 and 3 is 13\n",
      "Difference of 10 and 3 is -7\n",
      "Product of 10 and 3 is 30\n",
      "Quotient of 10 and 3 is 3\n",
      "Remainder of 10 and 3 is 1\n"
     ]
    }
   ],
   "source": [
    "num1=10\n",
    "num2 = 3   \n",
    "\n",
    "sum=num1+num2\n",
    "difference=num2-num1\n",
    "product=num1*num2\n",
    "quotient=num1/num2\n",
    "remainder=num1%num2\n",
    "\n",
    "print(\"Sum of\",num1,\"and\",num2,\"is\",sum)\n",
    "print(\"Difference of {} and {} is {}\".format(num1,num2,difference))\n",
    "print(f\"Product of {num1} and {num2} is {product}\")\n",
    "print(f\"Quotient of {num1} and {num2} is {int(quotient)}\")\n",
    "print(f\"Remainder of {num1} and {num2} is {remainder}\")\n"
   ]
  },
  {
   "cell_type": "code",
   "execution_count": 4,
   "metadata": {},
   "outputs": [
    {
     "name": "stdout",
     "output_type": "stream",
     "text": [
      "Name: Pierre\n",
      "Age: 50\n"
     ]
    }
   ],
   "source": [
    "name='Pierre'\n",
    "age=50\n",
    "\n",
    "print(f\"Name: {name}\")\n",
    "print(f\"Age: {age}\")"
   ]
  },
  {
   "cell_type": "code",
   "execution_count": 8,
   "metadata": {},
   "outputs": [
    {
     "name": "stdout",
     "output_type": "stream",
     "text": [
      "\tName: Pierre \n",
      "\tAge: 50\n"
     ]
    }
   ],
   "source": [
    "name='Pierre'\n",
    "age=50\n",
    "\n",
    "print(f\"\\tName: {name} \\n\\tAge: {age}\") #\\t is for tab and \\n is for new line"
   ]
  },
  {
   "cell_type": "code",
   "execution_count": 17,
   "metadata": {},
   "outputs": [
    {
     "name": "stdout",
     "output_type": "stream",
     "text": [
      "You are a minor\n",
      "You are not allowed to vote\n",
      "program completed\n"
     ]
    }
   ],
   "source": [
    "#conditions\n",
    "age=18 #variable age contains value 30\n",
    "\n",
    "if age<18:\n",
    "    print(\"You are a minor\") #all code inside this block will be executed if the condition evaluates to true\n",
    "    print(\"You are not allowed to vote\")\n",
    "\n",
    "\n",
    "print('program completed')"
   ]
  },
  {
   "cell_type": "code",
   "execution_count": 21,
   "metadata": {},
   "outputs": [
    {
     "name": "stdout",
     "output_type": "stream",
     "text": [
      "You are adult\n",
      "You are allowed to vote\n",
      "program completed\n"
     ]
    }
   ],
   "source": [
    "age=20\n",
    "\n",
    "if age>18:\n",
    "    print(\"You are adult\")  \n",
    "    print(\"You are allowed to vote\")\n",
    "\n",
    "\n",
    "print('program completed')"
   ]
  },
  {
   "cell_type": "code",
   "execution_count": 24,
   "metadata": {},
   "outputs": [
    {
     "name": "stdout",
     "output_type": "stream",
     "text": [
      "You are adult\n",
      "You are allowed to vote\n",
      "program completed\n"
     ]
    }
   ],
   "source": [
    "age=18\n",
    "\n",
    "if age==18:\n",
    "    print(\"You are adult\")  \n",
    "    print(\"You are allowed to vote\")\n",
    "\n",
    "print('program completed')"
   ]
  },
  {
   "cell_type": "code",
   "execution_count": 31,
   "metadata": {},
   "outputs": [
    {
     "name": "stdout",
     "output_type": "stream",
     "text": [
      "You are a minor\n",
      "You are not allowed to vote\n",
      "program completed\n"
     ]
    }
   ],
   "source": [
    "#if else condition\n",
    "\n",
    "age=15\n",
    "if age>=18:\n",
    "    print(\"You are adult\")  \n",
    "    print(\"You are allowed to vote\")\n",
    "else: #otherwise do this if condition evaluates to false\n",
    "    print(\"You are a minor\")\n",
    "    print(\"You are not allowed to vote\")\n",
    "\n",
    "print('program completed')\n",
    "\n",
    "#in a condition only one block of code can be executed"
   ]
  },
  {
   "cell_type": "code",
   "execution_count": 35,
   "metadata": {},
   "outputs": [
    {
     "name": "stdout",
     "output_type": "stream",
     "text": [
      "You are not married\n"
     ]
    }
   ],
   "source": [
    "married=False\n",
    "\n",
    "if married==True:\n",
    "    print(\"You are married\")\n",
    "\n",
    "if married:\n",
    "    print(\"You are married\")\n",
    "else:\n",
    "    print(\"You are not married\")"
   ]
  },
  {
   "cell_type": "code",
   "execution_count": 43,
   "metadata": {},
   "outputs": [
    {
     "name": "stdout",
     "output_type": "stream",
     "text": [
      "You are eligible for 1% discount\n",
      "program completed\n"
     ]
    }
   ],
   "source": [
    "#if else if condition\n",
    "total=3000\n",
    "\n",
    "if total>=10000:\n",
    "    print(\"You are eligible for 3% discount\")\n",
    "elif total>5000:\n",
    "    print(\"You are eligible for 2% discount\")\n",
    "elif total>2000:\n",
    "    print(\"You are eligible for 1% discount\")\n",
    "else:\n",
    "    print(\"You are not eligible for discount\")\n",
    "\n",
    "print('program completed')"
   ]
  },
  {
   "cell_type": "code",
   "execution_count": null,
   "metadata": {},
   "outputs": [],
   "source": [
    "#nested condition\n",
    "username='Pierre'\n",
    "password='12345'\n",
    "\n",
    "if username=='Pierre':\n",
    "    if password=='12345':  #nested condition is a condition inside another condition\n",
    "        print(\"Login successful\")\n",
    "    else:\n",
    "        print(\"Invalid password\")\n",
    "    \n",
    "else:\n",
    "    print(\"Invalid username\")\n",
    "    "
   ]
  },
  {
   "cell_type": "code",
   "execution_count": 44,
   "metadata": {},
   "outputs": [
    {
     "name": "stdout",
     "output_type": "stream",
     "text": [
      "It's too hot and dry\n"
     ]
    }
   ],
   "source": [
    "temp=35\n",
    "humidity=10\n",
    "\n",
    "if temp>30:\n",
    "    if humidity<20:\n",
    "        print(\"It's too hot and dry\")\n"
   ]
  },
  {
   "cell_type": "code",
   "execution_count": 51,
   "metadata": {},
   "outputs": [
    {
     "name": "stdout",
     "output_type": "stream",
     "text": [
      "Normal weather\n"
     ]
    }
   ],
   "source": [
    "temp=35\n",
    "humidity=10\n",
    "\n",
    "if temp>30 and humidity<20:  #and operator requires both conditions to be true\n",
    "    print(\"It's too hot and dry\") #all conditions must be satisfied for this block to be executed\n",
    "else:\n",
    "    print(\"Normal weather\")"
   ]
  },
  {
   "cell_type": "code",
   "execution_count": 56,
   "metadata": {},
   "outputs": [
    {
     "name": "stdout",
     "output_type": "stream",
     "text": [
      "It's too hot and dry\n"
     ]
    }
   ],
   "source": [
    "temp=35\n",
    "humidity=10\n",
    "\n",
    "if temp>30 or humidity<20: #or operator requires at least one condition to be true\n",
    "    print(\"It's too hot and dry\") \n",
    "else:\n",
    "    print(\"Normal weather\")"
   ]
  },
  {
   "cell_type": "code",
   "execution_count": 58,
   "metadata": {},
   "outputs": [],
   "source": [
    "married=True\n",
    "\n",
    "if not married:\n",
    "    print(\"You are not married\")"
   ]
  },
  {
   "cell_type": "code",
   "execution_count": 59,
   "metadata": {},
   "outputs": [
    {
     "name": "stdout",
     "output_type": "stream",
     "text": [
      "tom\n"
     ]
    }
   ],
   "source": [
    "name=input(\"Enter your name: \")\n",
    "print(name)"
   ]
  },
  {
   "cell_type": "code",
   "execution_count": 63,
   "metadata": {},
   "outputs": [
    {
     "name": "stdout",
     "output_type": "stream",
     "text": [
      "Hello Bob\n"
     ]
    }
   ],
   "source": [
    "#practical\n",
    "name=input('Enter your name: ')\n",
    "if name==\"Alice\":\n",
    "    print(\"Hello Alice\")\n",
    "elif name==\"Bob\":\n",
    "    print(\"Hello Bob\")\n",
    "else:\n",
    "    print(\"You are not Alice or Bob\")"
   ]
  },
  {
   "cell_type": "code",
   "execution_count": 64,
   "metadata": {},
   "outputs": [
    {
     "name": "stdout",
     "output_type": "stream",
     "text": [
      "2\n"
     ]
    }
   ],
   "source": [
    "x=1\n",
    "\n",
    "x=x+1\n",
    "\n",
    "print(x)"
   ]
  },
  {
   "cell_type": "code",
   "execution_count": 66,
   "metadata": {},
   "outputs": [
    {
     "name": "stdout",
     "output_type": "stream",
     "text": [
      "3\n"
     ]
    }
   ],
   "source": [
    "x=1\n",
    "\n",
    "x+=2\n",
    "\n",
    "print(x)"
   ]
  }
 ],
 "metadata": {
  "kernelspec": {
   "display_name": "Python 3",
   "language": "python",
   "name": "python3"
  },
  "language_info": {
   "codemirror_mode": {
    "name": "ipython",
    "version": 3
   },
   "file_extension": ".py",
   "mimetype": "text/x-python",
   "name": "python",
   "nbconvert_exporter": "python",
   "pygments_lexer": "ipython3",
   "version": "3.10.2"
  }
 },
 "nbformat": 4,
 "nbformat_minor": 2
}
