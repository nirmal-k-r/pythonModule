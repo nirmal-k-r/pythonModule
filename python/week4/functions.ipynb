{
 "cells": [
  {
   "cell_type": "code",
   "execution_count": 4,
   "metadata": {},
   "outputs": [],
   "source": [
    "#function definition\n",
    "\n",
    "def greet():\n",
    "    print(\"Hello, there!\")\n",
    "    print(\"How are you?\")"
   ]
  },
  {
   "cell_type": "code",
   "execution_count": 6,
   "metadata": {},
   "outputs": [
    {
     "name": "stdout",
     "output_type": "stream",
     "text": [
      "Hello, there!\n",
      "How are you?\n"
     ]
    }
   ],
   "source": [
    "#function call\n",
    "greet()"
   ]
  },
  {
   "cell_type": "code",
   "execution_count": 7,
   "metadata": {},
   "outputs": [
    {
     "name": "stdout",
     "output_type": "stream",
     "text": [
      "This is saturday\n",
      "I am learning python\n",
      "Hello, there!\n",
      "How are you?\n",
      "Its still saturday\n",
      "Hello, there!\n",
      "How are you?\n"
     ]
    }
   ],
   "source": [
    "print('This is saturday')\n",
    "print('I am learning python')\n",
    "greet()\n",
    "print('Its still saturday')\n",
    "greet()\n"
   ]
  },
  {
   "cell_type": "code",
   "execution_count": 8,
   "metadata": {},
   "outputs": [
    {
     "name": "stdout",
     "output_type": "stream",
     "text": [
      "Hello, there!\n",
      "How are you?\n",
      "Hello, there!\n",
      "How are you?\n",
      "Hello, there!\n",
      "How are you?\n",
      "Hello, there!\n",
      "How are you?\n",
      "Hello, there!\n",
      "How are you?\n"
     ]
    }
   ],
   "source": [
    "for i in range(5):\n",
    "    greet()"
   ]
  },
  {
   "cell_type": "code",
   "execution_count": 13,
   "metadata": {},
   "outputs": [
    {
     "name": "stdout",
     "output_type": "stream",
     "text": [
      "11\n"
     ]
    }
   ],
   "source": [
    "#parameters\n",
    "def addition(num1,num2): #num1 and num2 are parameters\n",
    "    sum=num1+num2\n",
    "    print(sum)\n",
    "\n",
    "addition(5,6)\n"
   ]
  },
  {
   "cell_type": "code",
   "execution_count": 19,
   "metadata": {},
   "outputs": [
    {
     "name": "stdout",
     "output_type": "stream",
     "text": [
      "3\n",
      "11\n"
     ]
    }
   ],
   "source": [
    "#return statement\n",
    "\n",
    "#functions\n",
    "def addition(num1,num2): \n",
    "    sum=num1+num2\n",
    "    return sum\n",
    "\n",
    "#main program\n",
    "x=1\n",
    "y=2\n",
    "\n",
    "print(addition(x,y))\n",
    "\n",
    "result=addition(5,6)\n",
    "print(result)"
   ]
  },
  {
   "cell_type": "code",
   "execution_count": 20,
   "metadata": {},
   "outputs": [
    {
     "name": "stdout",
     "output_type": "stream",
     "text": [
      "Name: John\n",
      "Age: 25\n",
      "Address: 123 Main St\n",
      "Country: USA\n",
      "Married: False\n"
     ]
    }
   ],
   "source": [
    "def personDetails(name, age, address, country, married):\n",
    "    print('Name:',name)\n",
    "    print('Age:',age)\n",
    "    print('Address:',address)\n",
    "    print('Country:',country)\n",
    "    print('Married:',married)\n",
    "\n",
    "personDetails('John', 25, '123 Main St', 'USA', False)"
   ]
  },
  {
   "cell_type": "code",
   "execution_count": 23,
   "metadata": {},
   "outputs": [
    {
     "name": "stdout",
     "output_type": "stream",
     "text": [
      "main program\n"
     ]
    }
   ],
   "source": [
    "def process():\n",
    "    pass  #placeholder\n",
    "\n",
    "print('main program')\n",
    "\n"
   ]
  },
  {
   "cell_type": "code",
   "execution_count": 24,
   "metadata": {},
   "outputs": [
    {
     "name": "stdout",
     "output_type": "stream",
     "text": [
      "70.0\n"
     ]
    }
   ],
   "source": [
    "marks=[50,60,70,80,90]\n",
    "\n",
    "def calculateAverage(mymarks):\n",
    "    sum=0\n",
    "    for mark in mymarks:\n",
    "        sum+=mark\n",
    "\n",
    "    average=sum/len(mymarks)\n",
    "    return average\n",
    "\n",
    "print(calculateAverage(marks))"
   ]
  },
  {
   "cell_type": "code",
   "execution_count": 30,
   "metadata": {},
   "outputs": [
    {
     "name": "stdout",
     "output_type": "stream",
     "text": [
      "11\n"
     ]
    }
   ],
   "source": [
    "def add(a,b):\n",
    "    # sum=a+b\n",
    "    return a+b\n",
    "\n",
    "sum=add(5,6)\n",
    "print(sum)\n"
   ]
  },
  {
   "cell_type": "code",
   "execution_count": null,
   "metadata": {},
   "outputs": [],
   "source": [
    "def registerChild(name, addrress, age, marritalStatus):\n",
    "    print('Name:',name)\n",
    "    print('Address:',addrress)\n",
    "    print('Age:',age)\n",
    "    print('Marrital Status:',marritalStatus)\n",
    "\n",
    "\n",
    "registerChild('John', '123 Main St', 0, False)\n",
    "registerChild('Jane', '123 Main St', 0, False)\n",
    "registerChild('Jack', '123 Main St', 0, False)"
   ]
  },
  {
   "cell_type": "code",
   "execution_count": 33,
   "metadata": {},
   "outputs": [
    {
     "name": "stdout",
     "output_type": "stream",
     "text": [
      "Name: John\n",
      "Address: 123 Main St\n",
      "Age: 0\n",
      "Marrital Status: False\n",
      "Name: Jane\n",
      "Address: 123 Main St\n",
      "Age: 40\n",
      "Marrital Status: True\n"
     ]
    }
   ],
   "source": [
    "def registerChild(name, addrress, age, marritalStatus=False): #default value of marritalStatus is False\n",
    "    print('Name:',name)\n",
    "    print('Address:',addrress)\n",
    "    print('Age:',age)\n",
    "    print('Marrital Status:',marritalStatus)\n",
    "\n",
    "\n",
    "registerChild('John', '123 Main St', 0)\n",
    "registerChild('Jane', '123 Main St', 40,True)"
   ]
  },
  {
   "cell_type": "code",
   "execution_count": 37,
   "metadata": {},
   "outputs": [
    {
     "name": "stdout",
     "output_type": "stream",
     "text": [
      "(1,)\n",
      "1.0\n",
      "(1, 2)\n",
      "1.5\n",
      "(1, 2, 3)\n",
      "2.0\n",
      "(1, 2, 3, 4)\n",
      "2.5\n",
      "(1, 2, 3, 4, 5)\n",
      "3.0\n"
     ]
    }
   ],
   "source": [
    "def average(*nums):\n",
    "    print(nums)\n",
    "    sum=0\n",
    "    for num in nums:\n",
    "        sum+=num\n",
    "\n",
    "    return sum/len(nums)\n",
    "\n",
    "\n",
    "print(average(1))\n",
    "print(average(1,2))\n",
    "print(average(1,2,3))\n",
    "print(average(1,2,3,4))\n",
    "print(average(1,2,3,4,5))\n"
   ]
  },
  {
   "cell_type": "code",
   "execution_count": 39,
   "metadata": {},
   "outputs": [
    {
     "name": "stdout",
     "output_type": "stream",
     "text": [
      "John\n",
      "25\n",
      "123 Main St\n"
     ]
    }
   ],
   "source": [
    "def details(**person):\n",
    "    # print(person)\n",
    "    print(person['name'])\n",
    "    print(person['age'])\n",
    "    print(person['address'])\n",
    "\n",
    "\n",
    "details(name='John', age=25, address='123 Main St')"
   ]
  },
  {
   "cell_type": "code",
   "execution_count": 41,
   "metadata": {},
   "outputs": [
    {
     "name": "stdout",
     "output_type": "stream",
     "text": [
      "25.0\n"
     ]
    }
   ],
   "source": [
    "def calculate_triangle_area(base, height):\n",
    "    area=0.5 * base * height\n",
    "    return area\n",
    "\n",
    "result=calculate_triangle_area(5,10)\n",
    "print(result)"
   ]
  }
 ],
 "metadata": {
  "kernelspec": {
   "display_name": "Python 3",
   "language": "python",
   "name": "python3"
  },
  "language_info": {
   "codemirror_mode": {
    "name": "ipython",
    "version": 3
   },
   "file_extension": ".py",
   "mimetype": "text/x-python",
   "name": "python",
   "nbconvert_exporter": "python",
   "pygments_lexer": "ipython3",
   "version": "3.10.2"
  }
 },
 "nbformat": 4,
 "nbformat_minor": 2
}
