{
 "cells": [
  {
   "cell_type": "code",
   "execution_count": 19,
   "metadata": {},
   "outputs": [
    {
     "name": "stdout",
     "output_type": "stream",
     "text": [
      "helloworld\n"
     ]
    }
   ],
   "source": [
    "print('helloworld')"
   ]
  },
  {
   "cell_type": "code",
   "execution_count": 20,
   "metadata": {},
   "outputs": [
    {
     "name": "stdout",
     "output_type": "stream",
     "text": [
      "10\n"
     ]
    }
   ],
   "source": [
    "#this is a comment\n",
    "print(10)  #this is a comment\n",
    "\n",
    "#this is a comment\n",
    "#this is a comment\n",
    "\n",
    "#comments are not executed by the python interpreter\n"
   ]
  },
  {
   "cell_type": "code",
   "execution_count": 23,
   "metadata": {},
   "outputs": [
    {
     "name": "stdout",
     "output_type": "stream",
     "text": [
      "20\n"
     ]
    }
   ],
   "source": [
    "total = 10+10\n",
    "\n",
    "print(total)"
   ]
  },
  {
   "cell_type": "code",
   "execution_count": 26,
   "metadata": {},
   "outputs": [
    {
     "name": "stdout",
     "output_type": "stream",
     "text": [
      "10\n",
      "20\n"
     ]
    }
   ],
   "source": [
    "number1=10\n",
    "number2=20\n",
    "\n",
    "print(number1)\n",
    "print(number2)"
   ]
  },
  {
   "cell_type": "code",
   "execution_count": 27,
   "metadata": {},
   "outputs": [],
   "source": [
    "#Data types\n",
    "\n",
    "#integers\n",
    "x=10\n",
    "x=1000000\n",
    "x=0\n",
    "x=-1000\n",
    "\n",
    "#float\n",
    "x=10.5\n",
    "x=23.302904\n",
    "x=-23.55\n",
    "x=-1000.00\n",
    "\n",
    "\n",
    "#string\n",
    "name = 'Tom'\n",
    "address='123 Main St, ebene mauritius'\n",
    "x='A'\n",
    "y=\"^%&%*())(*&^%swfewhj287)\"\n",
    "number=\"55\"\n",
    "\n",
    "\n",
    "#boolean\n",
    "married=False\n",
    "married=True\n"
   ]
  },
  {
   "cell_type": "code",
   "execution_count": null,
   "metadata": {},
   "outputs": [],
   "source": [
    "name='Paul'\n",
    "# 2name=\"paul\" #variable names cannot start with a number or symbol\n",
    "name2='Paul' #variable names can start with a letter but can contain numbers\n",
    "na2me='Eric'\n",
    "\n",
    "name_2='Paul' #variable names can contain underscore but not other symbols\n",
    "\n",
    "#first name='Paul' #variable names cannot contain spaces\n",
    "first_name='Paul'\n",
    "firstName='Paul'\n",
    "\n",
    "#Name='Jack' #variable names are case sensitive but should not start with upperclasses"
   ]
  },
  {
   "cell_type": "code",
   "execution_count": 30,
   "metadata": {},
   "outputs": [
    {
     "name": "stdout",
     "output_type": "stream",
     "text": [
      "55\n"
     ]
    }
   ],
   "source": [
    "#convert/cast data types\n",
    "\n",
    "numbers='55'\n",
    "numbers=int(numbers)\n",
    "print(numbers)"
   ]
  },
  {
   "cell_type": "code",
   "execution_count": 32,
   "metadata": {},
   "outputs": [
    {
     "name": "stdout",
     "output_type": "stream",
     "text": [
      "eric\n"
     ]
    }
   ],
   "source": [
    "#input\n",
    "name = input('Enter your name: ')\n",
    "\n",
    "print(name)"
   ]
  },
  {
   "cell_type": "code",
   "execution_count": 34,
   "metadata": {},
   "outputs": [
    {
     "name": "stdout",
     "output_type": "stream",
     "text": [
      "20\n"
     ]
    }
   ],
   "source": [
    "age=input('Enter your age: ')\n",
    "print(age)\n",
    "\n",
    "age=int(age)"
   ]
  },
  {
   "cell_type": "code",
   "execution_count": 39,
   "metadata": {},
   "outputs": [
    {
     "name": "stdout",
     "output_type": "stream",
     "text": [
      "Tom\n",
      "20\n",
      "My name is  Tom\n",
      "My age is  20\n",
      "My name is  Tom  and I am  20  years old\n"
     ]
    }
   ],
   "source": [
    "name='Tom'\n",
    "age=20\n",
    "\n",
    "print(name)\n",
    "print(age)\n",
    "\n",
    "print('My name is ',name) #concatenate string with variable\n",
    "print('My age is ',age)\n",
    "\n",
    "print('My name is ',name,\" and I am \",age,\" years old\")"
   ]
  },
  {
   "cell_type": "code",
   "execution_count": 40,
   "metadata": {},
   "outputs": [
    {
     "name": "stdout",
     "output_type": "stream",
     "text": [
      "My name is Tom and I am 20 years old\n"
     ]
    }
   ],
   "source": [
    "#string formatting/interpolation\n",
    "name='Tom'\n",
    "age=20\n",
    "\n",
    "print(\"My name is {} and I am {} years old\".format(name,age))"
   ]
  },
  {
   "cell_type": "code",
   "execution_count": 41,
   "metadata": {},
   "outputs": [
    {
     "name": "stdout",
     "output_type": "stream",
     "text": [
      "My name is Tom and I am 20 years old\n"
     ]
    }
   ],
   "source": [
    "#f-string\n",
    "name='Tom'\n",
    "age=20\n",
    "\n",
    "print(f\"My name is {name} and I am {age} years old\")\n"
   ]
  },
  {
   "cell_type": "code",
   "execution_count": 42,
   "metadata": {},
   "outputs": [
    {
     "name": "stdout",
     "output_type": "stream",
     "text": [
      "The sum of 2 and 5 is 7\n"
     ]
    }
   ],
   "source": [
    "num1=2\n",
    "num2=5\n",
    "\n",
    "total=num1+num2 #addition\n",
    "print(f\"The sum of {num1} and {num2} is {total}\")"
   ]
  },
  {
   "cell_type": "code",
   "execution_count": 43,
   "metadata": {},
   "outputs": [
    {
     "name": "stdout",
     "output_type": "stream",
     "text": [
      "7\n",
      "3\n",
      "10\n",
      "2.5\n",
      "2\n",
      "1\n",
      "25\n"
     ]
    }
   ],
   "source": [
    "num1=5\n",
    "num2=2\n",
    "\n",
    "print(num1+num2) #addition  \n",
    "print(num1-num2) #subtraction\n",
    "print(num1*num2) #multiplication\n",
    "print(num1/num2) #division\n",
    "print(num1//num2) #floor division\n",
    "print(num1%num2) #modulus\n",
    "print(num1**num2) #exponent"
   ]
  },
  {
   "cell_type": "code",
   "execution_count": 48,
   "metadata": {},
   "outputs": [
    {
     "name": "stdout",
     "output_type": "stream",
     "text": [
      "False\n",
      "True\n"
     ]
    }
   ],
   "source": [
    "num1=5\n",
    "num2=2\n",
    "\n",
    "print(num1==num2)\n",
    "print(num1>num2)"
   ]
  },
  {
   "cell_type": "code",
   "execution_count": 49,
   "metadata": {},
   "outputs": [
    {
     "name": "stdout",
     "output_type": "stream",
     "text": [
      "11\n"
     ]
    }
   ],
   "source": [
    "x=10\n",
    "\n",
    "x=x+1\n",
    "print(x)"
   ]
  },
  {
   "cell_type": "code",
   "execution_count": 50,
   "metadata": {},
   "outputs": [
    {
     "name": "stdout",
     "output_type": "stream",
     "text": [
      "11\n"
     ]
    }
   ],
   "source": [
    "x=10\n",
    "x+=1\n",
    "print(x)"
   ]
  },
  {
   "cell_type": "code",
   "execution_count": 51,
   "metadata": {},
   "outputs": [
    {
     "name": "stdout",
     "output_type": "stream",
     "text": [
      "8\n"
     ]
    }
   ],
   "source": [
    "y=10\n",
    "y-=2\n",
    "print(y)"
   ]
  },
  {
   "cell_type": "code",
   "execution_count": null,
   "metadata": {},
   "outputs": [],
   "source": []
  }
 ],
 "metadata": {
  "kernelspec": {
   "display_name": "Python 3",
   "language": "python",
   "name": "python3"
  },
  "language_info": {
   "codemirror_mode": {
    "name": "ipython",
    "version": 3
   },
   "file_extension": ".py",
   "mimetype": "text/x-python",
   "name": "python",
   "nbconvert_exporter": "python",
   "pygments_lexer": "ipython3",
   "version": "3.10.2"
  }
 },
 "nbformat": 4,
 "nbformat_minor": 2
}
