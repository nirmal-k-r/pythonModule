{
 "cells": [
  {
   "cell_type": "code",
   "execution_count": 1,
   "metadata": {},
   "outputs": [
    {
     "name": "stdout",
     "output_type": "stream",
     "text": [
      "paul\n"
     ]
    }
   ],
   "source": [
    "#basic data types\n",
    "#integer\n",
    "#string\n",
    "#float\n",
    "#boolean\n",
    "\n",
    "name=\"tom\"\n",
    "name=\"paul\"\n",
    "\n",
    "print(name)\n"
   ]
  },
  {
   "cell_type": "code",
   "execution_count": null,
   "metadata": {},
   "outputs": [],
   "source": [
    "#advanced data structures\n",
    "#list\n",
    "#dictionary\n",
    "#tuple\n",
    "#set\n"
   ]
  },
  {
   "cell_type": "code",
   "execution_count": null,
   "metadata": {},
   "outputs": [],
   "source": [
    "#std variables\n",
    "mark1=10\n",
    "mark2=20\n",
    "mark3=30\n",
    "mark4=40"
   ]
  },
  {
   "cell_type": "code",
   "execution_count": 2,
   "metadata": {},
   "outputs": [
    {
     "name": "stdout",
     "output_type": "stream",
     "text": [
      "[10, 20, 30, 40]\n"
     ]
    }
   ],
   "source": [
    "#lists\n",
    "\n",
    "marks=[] #empty list\n",
    "\n",
    "# marks=[10]\n",
    "# marks=[10,20]\n",
    "# marks=[10,20,30]\n",
    "marks=[10,20,30,40]  #define a list\n",
    "\n",
    "print(marks)"
   ]
  },
  {
   "cell_type": "code",
   "execution_count": 3,
   "metadata": {},
   "outputs": [
    {
     "name": "stdout",
     "output_type": "stream",
     "text": [
      "['tom', 'paul', 'jane', 'mary', 'john']\n"
     ]
    }
   ],
   "source": [
    "#define a list with 5 names\n",
    "names=[\"tom\",\"paul\",\"jane\",\"mary\",\"john\"]\n",
    "print(names)"
   ]
  },
  {
   "cell_type": "code",
   "execution_count": 5,
   "metadata": {},
   "outputs": [
    {
     "name": "stdout",
     "output_type": "stream",
     "text": [
      "['red', 'green', 'blue', 'yellow', 'black']\n",
      "red\n",
      "blue\n",
      "black\n"
     ]
    }
   ],
   "source": [
    "colours=[\"red\",\"green\",\"blue\",\"yellow\",\"black\"]\n",
    "print(colours)\n",
    "\n",
    "#access an element in a list\n",
    "\n",
    "print(colours[0])\n",
    "print(colours[2])\n",
    "print(colours[4])"
   ]
  },
  {
   "cell_type": "code",
   "execution_count": 7,
   "metadata": {},
   "outputs": [
    {
     "name": "stdout",
     "output_type": "stream",
     "text": [
      "tom\n",
      "john\n"
     ]
    }
   ],
   "source": [
    "#circular indexing\n",
    "names=[\"tom\",\"paul\",\"jane\",\"mary\",\"john\"]\n",
    "\n",
    "print(names[0])\n",
    "print(names[-1])"
   ]
  },
  {
   "cell_type": "code",
   "execution_count": 11,
   "metadata": {},
   "outputs": [
    {
     "name": "stdout",
     "output_type": "stream",
     "text": [
      "['Tom', 15, 'Curepipe', False, 80]\n",
      "80\n",
      "15\n",
      "Tom is 15 years old. He lives at Curepipe. His average score is 80\n"
     ]
    }
   ],
   "source": [
    "#lists can store any data type\n",
    "\n",
    "student=['Tom',15, 'Curepipe',False, 80]\n",
    "print(student)\n",
    "\n",
    "\n",
    "print(student[4])\n",
    "\n",
    "age=student[1]\n",
    "print(age)\n",
    "\n",
    "print(f'{student[0]} is {student[1]} years old. He lives at {student[2]}. His average score is {student[4]}')"
   ]
  },
  {
   "cell_type": "code",
   "execution_count": 17,
   "metadata": {},
   "outputs": [
    {
     "name": "stdout",
     "output_type": "stream",
     "text": [
      "[60, 80, 90, 50, 55]\n",
      "[70, 80, 90, 50, 55]\n",
      "[70, 80, 90, 50, 100]\n"
     ]
    }
   ],
   "source": [
    "marks=[60,80,90,50,55]\n",
    "print(marks)\n",
    "\n",
    "\n",
    "#modify a list using the index\n",
    "marks[0]=70\n",
    "print(marks)\n",
    "\n",
    "marks[4]=100\n",
    "print(marks)"
   ]
  },
  {
   "cell_type": "code",
   "execution_count": 22,
   "metadata": {},
   "outputs": [
    {
     "name": "stdout",
     "output_type": "stream",
     "text": [
      "[]\n",
      "['Toyota']\n",
      "['Toyota', 'Honda']\n",
      "['Toyota', 'Honda', 'BMW']\n"
     ]
    }
   ],
   "source": [
    "# add new elements to a list\n",
    "\n",
    "cars=[] #empty list\n",
    "print(cars)\n",
    "\n",
    "cars.append(\"Toyota\")  #add an element to the list (at the end of the list)\n",
    "print(cars)\n",
    "\n",
    "cars.append(\"Honda\")\n",
    "print(cars)\n",
    "\n",
    "cars.append(\"BMW\")\n",
    "print(cars)"
   ]
  },
  {
   "cell_type": "code",
   "execution_count": 24,
   "metadata": {},
   "outputs": [
    {
     "name": "stdout",
     "output_type": "stream",
     "text": [
      "['red', 'green', 'blue', 'yellow']\n"
     ]
    }
   ],
   "source": [
    "#remove elements from list\n",
    "\n",
    "colours=[\"red\",\"green\",\"blue\",\"yellow\",\"black\"]\n",
    "colours.remove('black') #remove an element from the list\n",
    "print(colours)"
   ]
  },
  {
   "cell_type": "code",
   "execution_count": 26,
   "metadata": {},
   "outputs": [
    {
     "name": "stdout",
     "output_type": "stream",
     "text": [
      "5\n"
     ]
    }
   ],
   "source": [
    "names=[\"tom\",\"paul\",\"jane\",\"mary\",\"john\"]\n",
    "print( len(names) )"
   ]
  },
  {
   "cell_type": "code",
   "execution_count": 28,
   "metadata": {},
   "outputs": [
    {
     "name": "stdout",
     "output_type": "stream",
     "text": [
      "['tom', 'paul', 'jane', 'mary', 'john']\n",
      "['tom', 'paul', 'jane', 'mary']\n",
      "john\n"
     ]
    }
   ],
   "source": [
    "#lists use the principle - LIFO (Last In First Out)\n",
    "names=[\"tom\",\"paul\",\"jane\",\"mary\",\"john\"]\n",
    "print(names)\n",
    "removed_name=names.pop() #remove one element from the list\n",
    "print(names)\n",
    "\n",
    "print(removed_name)"
   ]
  },
  {
   "cell_type": "code",
   "execution_count": 30,
   "metadata": {},
   "outputs": [
    {
     "name": "stdout",
     "output_type": "stream",
     "text": [
      "['tom', 'paul', 'jane', 'mary', 'john']\n",
      "tom\n",
      "paul\n",
      "jane\n",
      "mary\n",
      "john\n"
     ]
    }
   ],
   "source": [
    "#iterate through a list\n",
    "\n",
    "names=[\"tom\",\"paul\",\"jane\",\"mary\",\"john\"]\n",
    "\n",
    "print(names)\n",
    "\n",
    "for name in names:\n",
    "    print(name)"
   ]
  },
  {
   "cell_type": "code",
   "execution_count": 31,
   "metadata": {},
   "outputs": [
    {
     "name": "stdout",
     "output_type": "stream",
     "text": [
      "The average marks is 67.0\n"
     ]
    }
   ],
   "source": [
    "marks=[60,80,90,50,55]\n",
    "#calculate the average marks\n",
    "\n",
    "total=0\n",
    "for mark in marks:\n",
    "    total=total+mark\n",
    "\n",
    "average=total/len(marks)\n",
    "print(f'The average marks is {average}')"
   ]
  },
  {
   "cell_type": "code",
   "execution_count": 34,
   "metadata": {},
   "outputs": [
    {
     "name": "stdout",
     "output_type": "stream",
     "text": [
      "['tom', 15]\n",
      "tom\n",
      "15\n",
      "jane\n"
     ]
    }
   ],
   "source": [
    "#2d lists\n",
    "students=[ ['tom',15], ['paul',16], ['jane',17] ]\n",
    "\n",
    "#access the first sublist/student\n",
    "student=students[0]\n",
    "print(student)\n",
    "\n",
    "#access the first element of the first sublist\n",
    "print(students[0][0])\n",
    "print(students[0][1])\n",
    "\n",
    "#access jane\n",
    "print(students[2][0])"
   ]
  },
  {
   "cell_type": "code",
   "execution_count": 43,
   "metadata": {},
   "outputs": [
    {
     "name": "stdout",
     "output_type": "stream",
     "text": [
      "['apple', 'banana', 'orange']\n",
      "3\n",
      "banana\n",
      "['apple', 'grape', 'orange']\n",
      "apple\n",
      "grape\n",
      "orange\n",
      "['apple', 'grape']\n"
     ]
    }
   ],
   "source": [
    "#exercise\n",
    "fruits=[]\n",
    "\n",
    "fruits.append('apple')\n",
    "fruits.append('banana')\n",
    "fruits.append('orange')\n",
    "\n",
    "print(fruits)\n",
    "\n",
    "print(len(fruits))\n",
    "print(fruits[1])\n",
    "fruits[1]='grape'\n",
    "print(fruits)\n",
    "\n",
    "\n",
    "for fruit in fruits:\n",
    "    print(fruit)\n",
    "\n",
    "fruits.pop()\n",
    "print(fruits)"
   ]
  },
  {
   "cell_type": "code",
   "execution_count": 49,
   "metadata": {},
   "outputs": [
    {
     "name": "stdout",
     "output_type": "stream",
     "text": [
      "('Tom', 15, 'Curepipe', False, 80)\n",
      "Tom\n",
      "80\n",
      "5\n"
     ]
    }
   ],
   "source": [
    "#tuples\n",
    "#tuples are immutable\n",
    "\n",
    "student=('Tom',15, 'Curepipe',False, 80) #to define a tuple using () instead []\n",
    "print(student)\n",
    "print(student[0])\n",
    "print(student[4])\n",
    "print(len(student))"
   ]
  },
  {
   "cell_type": "code",
   "execution_count": 47,
   "metadata": {},
   "outputs": [
    {
     "ename": "AttributeError",
     "evalue": "'tuple' object has no attribute 'append'",
     "output_type": "error",
     "traceback": [
      "\u001b[0;31m---------------------------------------------------------------------------\u001b[0m",
      "\u001b[0;31mAttributeError\u001b[0m                            Traceback (most recent call last)",
      "Cell \u001b[0;32mIn[47], line 1\u001b[0m\n\u001b[0;32m----> 1\u001b[0m \u001b[43mstudent\u001b[49m\u001b[38;5;241;43m.\u001b[39;49m\u001b[43mappend\u001b[49m(\u001b[38;5;241m100\u001b[39m) \u001b[38;5;66;03m#error because tuples are immutable\u001b[39;00m\n",
      "\u001b[0;31mAttributeError\u001b[0m: 'tuple' object has no attribute 'append'"
     ]
    }
   ],
   "source": [
    "student.append(100) #error because tuples are immutable"
   ]
  },
  {
   "cell_type": "code",
   "execution_count": 48,
   "metadata": {},
   "outputs": [
    {
     "ename": "TypeError",
     "evalue": "'tuple' object does not support item assignment",
     "output_type": "error",
     "traceback": [
      "\u001b[0;31m---------------------------------------------------------------------------\u001b[0m",
      "\u001b[0;31mTypeError\u001b[0m                                 Traceback (most recent call last)",
      "Cell \u001b[0;32mIn[48], line 1\u001b[0m\n\u001b[0;32m----> 1\u001b[0m \u001b[43mstudent\u001b[49m\u001b[43m[\u001b[49m\u001b[38;5;241;43m0\u001b[39;49m\u001b[43m]\u001b[49m\u001b[38;5;241m=\u001b[39m\u001b[38;5;124m'\u001b[39m\u001b[38;5;124mPaul\u001b[39m\u001b[38;5;124m'\u001b[39m \u001b[38;5;66;03m#error because tuples are immutable\u001b[39;00m\n",
      "\u001b[0;31mTypeError\u001b[0m: 'tuple' object does not support item assignment"
     ]
    }
   ],
   "source": [
    "student[0]='Paul' #error because tuples are immutable"
   ]
  },
  {
   "cell_type": "code",
   "execution_count": 50,
   "metadata": {},
   "outputs": [
    {
     "name": "stdout",
     "output_type": "stream",
     "text": [
      "Tom\n",
      "15\n",
      "Curepipe\n",
      "False\n",
      "80\n"
     ]
    }
   ],
   "source": [
    "for item in student:\n",
    "    print(item)"
   ]
  },
  {
   "cell_type": "code",
   "execution_count": 51,
   "metadata": {},
   "outputs": [
    {
     "name": "stdout",
     "output_type": "stream",
     "text": [
      "[0, 0, 10, 10, 10]\n"
     ]
    }
   ],
   "source": [
    "#a list can store dulicat values\n",
    "marks=[0,0,10,10,10]\n",
    "print(marks)"
   ]
  },
  {
   "cell_type": "code",
   "execution_count": 52,
   "metadata": {},
   "outputs": [
    {
     "name": "stdout",
     "output_type": "stream",
     "text": [
      "{0, 1, 2, 3, 4}\n"
     ]
    }
   ],
   "source": [
    "#sets\n",
    "nums={0,1,2,3,4}\n",
    "print(nums)"
   ]
  },
  {
   "cell_type": "code",
   "execution_count": 53,
   "metadata": {},
   "outputs": [
    {
     "name": "stdout",
     "output_type": "stream",
     "text": [
      "5\n"
     ]
    }
   ],
   "source": [
    "print(len(nums))"
   ]
  },
  {
   "cell_type": "code",
   "execution_count": 54,
   "metadata": {},
   "outputs": [
    {
     "ename": "TypeError",
     "evalue": "'set' object is not subscriptable",
     "output_type": "error",
     "traceback": [
      "\u001b[0;31m---------------------------------------------------------------------------\u001b[0m",
      "\u001b[0;31mTypeError\u001b[0m                                 Traceback (most recent call last)",
      "Cell \u001b[0;32mIn[54], line 1\u001b[0m\n\u001b[0;32m----> 1\u001b[0m \u001b[38;5;28mprint\u001b[39m(\u001b[43mnums\u001b[49m\u001b[43m[\u001b[49m\u001b[38;5;241;43m0\u001b[39;49m\u001b[43m]\u001b[49m) \u001b[38;5;66;03m#error because sets are unordered\u001b[39;00m\n",
      "\u001b[0;31mTypeError\u001b[0m: 'set' object is not subscriptable"
     ]
    }
   ],
   "source": [
    "print(nums[0]) #error because sets are unordered"
   ]
  },
  {
   "cell_type": "code",
   "execution_count": 56,
   "metadata": {},
   "outputs": [
    {
     "name": "stdout",
     "output_type": "stream",
     "text": [
      "{0, 1, 2, 3, 4, 7}\n",
      "{0, 1, 2, 3, 4, 5, 7}\n"
     ]
    }
   ],
   "source": [
    "#add elements to a set\n",
    "print(nums)\n",
    "nums.add(5)\n",
    "print(nums)"
   ]
  },
  {
   "cell_type": "code",
   "execution_count": 57,
   "metadata": {},
   "outputs": [
    {
     "name": "stdout",
     "output_type": "stream",
     "text": [
      "{2, 3, 4, 5}\n"
     ]
    }
   ],
   "source": [
    "#remove elements from a set\n",
    "numbers={1,2,3,4,5}\n",
    "numbers.remove(1)\n",
    "print(numbers)"
   ]
  },
  {
   "cell_type": "code",
   "execution_count": 58,
   "metadata": {},
   "outputs": [
    {
     "name": "stdout",
     "output_type": "stream",
     "text": [
      "2\n",
      "3\n",
      "4\n",
      "5\n"
     ]
    }
   ],
   "source": [
    "for num in numbers:\n",
    "    print(num)"
   ]
  },
  {
   "cell_type": "code",
   "execution_count": 60,
   "metadata": {},
   "outputs": [
    {
     "name": "stdout",
     "output_type": "stream",
     "text": [
      "{0, 1, 2}\n"
     ]
    }
   ],
   "source": [
    "nums={0,0,0,0,1,1,1,2,2} #sets do not store duplicate values\n",
    "print(nums)"
   ]
  },
  {
   "cell_type": "code",
   "execution_count": 62,
   "metadata": {},
   "outputs": [
    {
     "name": "stdout",
     "output_type": "stream",
     "text": [
      "{1, 2, 3, 4, 5, 6, 7, 8}\n",
      "{4, 5}\n"
     ]
    }
   ],
   "source": [
    "num1={1,2,3,4,5}\n",
    "num2={4,5,6,7,8}\n",
    "\n",
    "#union\n",
    "result=num1.union(num2)\n",
    "print(result)\n",
    "\n",
    "#intersection\n",
    "result=num1.intersection(num2)\n",
    "print(result)"
   ]
  },
  {
   "cell_type": "code",
   "execution_count": 64,
   "metadata": {},
   "outputs": [
    {
     "name": "stdout",
     "output_type": "stream",
     "text": [
      "{'name': 'Tom', 'age': 15, 'address': 'Curepipe', 'is_registered': False, 'average_score': 80}\n"
     ]
    }
   ],
   "source": [
    "#dictionaries\n",
    "#dictionaries store key-value pairs\n",
    "\n",
    "#defining a dictionary\n",
    "student={\n",
    "    'name': 'Tom',\n",
    "    'age': 15,\n",
    "    'address': 'Curepipe',\n",
    "    'is_registered': False,\n",
    "    'average_score': 80\n",
    "}\n",
    "\n",
    "print(student)"
   ]
  },
  {
   "cell_type": "code",
   "execution_count": 66,
   "metadata": {},
   "outputs": [
    {
     "name": "stdout",
     "output_type": "stream",
     "text": [
      "Tom\n",
      "80\n"
     ]
    }
   ],
   "source": [
    "#access elements in a dictionary using the key\n",
    "print(student['name'])\n",
    "print(student['average_score'])"
   ]
  },
  {
   "cell_type": "code",
   "execution_count": 67,
   "metadata": {},
   "outputs": [
    {
     "name": "stdout",
     "output_type": "stream",
     "text": [
      "{'name': 'Tom', 'age': 15, 'address': 'Curepipe', 'is_registered': True, 'average_score': 80}\n"
     ]
    }
   ],
   "source": [
    "#update a value in a dictionary\n",
    "student['is_registered']=True\n",
    "print(student)"
   ]
  },
  {
   "cell_type": "code",
   "execution_count": 68,
   "metadata": {},
   "outputs": [
    {
     "name": "stdout",
     "output_type": "stream",
     "text": [
      "{'name': 'Tom', 'age': 15, 'address': 'Curepipe', 'is_registered': True, 'average_score': 80, 'class': 'Form 3'}\n"
     ]
    }
   ],
   "source": [
    "#add new key-value pairs\n",
    "student['class']='Form 3'\n",
    "print(student)"
   ]
  },
  {
   "cell_type": "code",
   "execution_count": 70,
   "metadata": {},
   "outputs": [
    {
     "name": "stdout",
     "output_type": "stream",
     "text": [
      "dict_keys(['name', 'age', 'address', 'is_registered', 'average_score', 'class'])\n",
      "dict_values(['Tom', 15, 'Curepipe', True, 80, 'Form 3'])\n"
     ]
    }
   ],
   "source": [
    "print(student.keys())\n",
    "print(student.values())"
   ]
  },
  {
   "cell_type": "code",
   "execution_count": 72,
   "metadata": {},
   "outputs": [
    {
     "name": "stdout",
     "output_type": "stream",
     "text": [
      "name Tom\n",
      "age 15\n",
      "address Curepipe\n",
      "is_registered True\n",
      "average_score 80\n",
      "class Form 3\n"
     ]
    }
   ],
   "source": [
    "#iterate through a dictionary and print key-value pairs\n",
    "for key,value in student.items():\n",
    "    print(key,value)"
   ]
  },
  {
   "cell_type": "code",
   "execution_count": null,
   "metadata": {},
   "outputs": [],
   "source": [
    "#remove an element from a dictionary\n",
    "student.pop('class')\n",
    "print(student)"
   ]
  }
 ],
 "metadata": {
  "kernelspec": {
   "display_name": "Python 3",
   "language": "python",
   "name": "python3"
  },
  "language_info": {
   "codemirror_mode": {
    "name": "ipython",
    "version": 3
   },
   "file_extension": ".py",
   "mimetype": "text/x-python",
   "name": "python",
   "nbconvert_exporter": "python",
   "pygments_lexer": "ipython3",
   "version": "3.10.2"
  }
 },
 "nbformat": 4,
 "nbformat_minor": 2
}
